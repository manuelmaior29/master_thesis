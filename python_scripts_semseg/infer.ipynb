{
 "cells": [
  {
   "cell_type": "code",
   "execution_count": 77,
   "metadata": {},
   "outputs": [],
   "source": [
    "import torch\n",
    "import torchvision\n",
    "import torchvision.models.segmentation.deeplabv3 as dlv3\n",
    "import torchvision.transforms.functional as tf\n",
    "import numpy as np\n",
    "import data\n",
    "import utils\n",
    "from PIL import Image\n",
    "from matplotlib import pyplot as plt\n",
    "from matplotlib.colors import LinearSegmentedColormap"
   ]
  },
  {
   "cell_type": "code",
   "execution_count": 78,
   "metadata": {},
   "outputs": [],
   "source": [
    "def show_prediction(input_image, pred_image, label_color_map, label_string_map):\n",
    "    label_legend_col = []\n",
    "\n",
    "    \n",
    "    # for i in range(len(label_color_map)):\n",
    "    #     color = label_color_map.values()[i] + [255]\n",
    "    #     color = np.array(color, dtype=np.float32)\n",
    "    #     color /= 255.0\n",
    "    #     label_legend_col.append(color.tolist())\n",
    "\n",
    "def map_scalars_to_colors(scalars_mask, pixel_mapping):\n",
    "    colors_mask = Image.new(mode=\"RGB\", size=(scalars_mask.size[0], scalars_mask.size[1]))\n",
    "    for i in range(scalars_mask.size[0]):\n",
    "        for j in range(scalars_mask.size[1]):\n",
    "            p =  scalars_mask.getpixel((i,j))\n",
    "            colors_mask.putpixel((i,j), pixel_mapping[scalars_mask.getpixel((i,j))])\n",
    "    return colors_mask"
   ]
  },
  {
   "cell_type": "code",
   "execution_count": 79,
   "metadata": {},
   "outputs": [],
   "source": [
    "model_parameters_load_path = r'G:\\My Drive\\Master IVA\\Master Thesis\\Models\\20230407_013726\\deeplabv3_model.pt'\n",
    "    \n",
    "ipt_path = r'G:\\My Drive\\Master IVA\\Master Thesis\\Datasets\\real\\test\\rgb\\real_rgb_3.png'\n",
    "tgt_path = r'G:\\My Drive\\Master IVA\\Master Thesis\\Datasets\\synthetic\\train\\semantic_segmentation_mapped\\synthetic_semantic_segmentation_1000.png'\n",
    "\n",
    "num_classes = len(data.SemanticLabelMapper.ID_TO_STRING['common'].keys())\n",
    "infer_width_resize = 512\n",
    "infer_height_resize = 256"
   ]
  },
  {
   "cell_type": "code",
   "execution_count": 80,
   "metadata": {},
   "outputs": [
    {
     "name": "stderr",
     "output_type": "stream",
     "text": [
      "c:\\ProgramData\\Anaconda3\\lib\\site-packages\\torchvision\\models\\_utils.py:208: UserWarning: The parameter 'pretrained' is deprecated since 0.13 and will be removed in 0.15, please use 'weights' instead.\n",
      "  warnings.warn(\n",
      "c:\\ProgramData\\Anaconda3\\lib\\site-packages\\torchvision\\models\\_utils.py:223: UserWarning: Arguments other than a weight enum or `None` for 'weights' are deprecated since 0.13 and will be removed in 0.15. The current behavior is equivalent to passing `weights=None`.\n",
      "  warnings.warn(msg)\n"
     ]
    },
    {
     "name": "stdout",
     "output_type": "stream",
     "text": [
      "Loaded model to device.\n"
     ]
    }
   ],
   "source": [
    "device = torch.device(\"cuda\" if torch.cuda.is_available() else \"cpu\")\n",
    "model = dlv3.deeplabv3_resnet50(pretrained=False, progress=True, num_classes=17)\n",
    "model.load_state_dict(torch.load(model_parameters_load_path))\n",
    "model.eval()\n",
    "model.to(device)\n",
    "print('Loaded model to device.')"
   ]
  },
  {
   "cell_type": "code",
   "execution_count": 81,
   "metadata": {},
   "outputs": [],
   "source": [
    "pil_ipt = Image.open(f'{ipt_path}', mode='r')\n",
    "transform = torchvision.transforms.Compose([torchvision.transforms.Resize((infer_height_resize, infer_width_resize)),\n",
    "                                            torchvision.transforms.RandomHorizontalFlip(p=0.0)])\n",
    "ipt = tf.to_tensor(np.array(pil_ipt).astype(np.float32))\n",
    "ipt = transform(ipt)\n",
    "\n",
    "pil_tgt = Image.open(f'{tgt_path}', mode='r',)\n",
    "transform = torchvision.transforms.Compose([torchvision.transforms.Resize((infer_height_resize, infer_width_resize)),\n",
    "                                            torchvision.transforms.RandomHorizontalFlip(p=0.0)])\n",
    "\n",
    "tgt = Image.open(tgt_path, 'r',)\n",
    "tgt = np.array(tgt).astype(np.int_)\n",
    "tgt = tf.to_tensor(tgt)\n"
   ]
  },
  {
   "cell_type": "code",
   "execution_count": 82,
   "metadata": {},
   "outputs": [],
   "source": [
    "# tgt_colors_mask = map_scalars_to_colors(tgt, data.SemanticLabelMapper.ID_TO_COLOR['common'])"
   ]
  },
  {
   "cell_type": "code",
   "execution_count": 83,
   "metadata": {},
   "outputs": [],
   "source": [
    "# from matplotlib.patches import Rectangle\n",
    "# from matplotlib.gridspec import GridSpec\n",
    "\n",
    "# rgb_tgt_blend = Image.blend(ipt, tgt_colors_mask, 0.5)\n",
    "\n",
    "# label_rectangles = []\n",
    "# for c in data.SemanticLabelMapper.ID_TO_COLOR['common'].values():\n",
    "#     c_normalized = [c_val / 255.0 for c_val in c]\n",
    "#     label_rectangles += [Rectangle((0,0), width=1, height=1, color=tuple(c_normalized))]\n",
    "\n",
    "# label_names = [v for v in data.SemanticLabelMapper.ID_TO_STRING['common'].values()]\n",
    "\n",
    "# fig, ax = plt.subplots(1, 2,  dpi=300, gridspec_kw={'width_ratios': [10, 1]}, figsize=(10,5))\n",
    "# ax[0].imshow(np.array(rgb_tgt_blend), interpolation='nearest')\n",
    "# ax[1].legend(label_rectangles,label_names, ncol=1, fontsize=11, loc='center')\n",
    "# ax[1].axis('off')\n",
    "# ax[0].axis('off')\n",
    "# fig.tight_layout()\n",
    "# # fig.show()"
   ]
  },
  {
   "cell_type": "code",
   "execution_count": 85,
   "metadata": {},
   "outputs": [
    {
     "ename": "KeyboardInterrupt",
     "evalue": "",
     "output_type": "error",
     "traceback": [
      "\u001b[1;31m---------------------------------------------------------------------------\u001b[0m",
      "\u001b[1;31mKeyboardInterrupt\u001b[0m                         Traceback (most recent call last)",
      "\u001b[1;32mc:\\Users\\Manuel\\Projects\\GitHub_Repositories\\master_thesis\\python_scripts_semseg\\infer.ipynb Cell 8\u001b[0m in \u001b[0;36m<cell line: 2>\u001b[1;34m()\u001b[0m\n\u001b[0;32m      <a href='vscode-notebook-cell:/c%3A/Users/Manuel/Projects/GitHub_Repositories/master_thesis/python_scripts_semseg/infer.ipynb#X10sZmlsZQ%3D%3D?line=0'>1</a>\u001b[0m \u001b[39m# ignore_label = 19\u001b[39;00m\n\u001b[0;32m      <a href='vscode-notebook-cell:/c%3A/Users/Manuel/Projects/GitHub_Repositories/master_thesis/python_scripts_semseg/infer.ipynb#X10sZmlsZQ%3D%3D?line=1'>2</a>\u001b[0m \u001b[39mwith\u001b[39;00m torch\u001b[39m.\u001b[39mno_grad():\n\u001b[1;32m----> <a href='vscode-notebook-cell:/c%3A/Users/Manuel/Projects/GitHub_Repositories/master_thesis/python_scripts_semseg/infer.ipynb#X10sZmlsZQ%3D%3D?line=3'>4</a>\u001b[0m     miou, ious \u001b[39m=\u001b[39m utils\u001b[39m.\u001b[39;49mmeasure_performance(predictions\u001b[39m=\u001b[39;49mtgt, targets\u001b[39m=\u001b[39;49mtgt, num_classes\u001b[39m=\u001b[39;49m\u001b[39mlen\u001b[39;49m(data\u001b[39m.\u001b[39;49mSemanticLabelMapper\u001b[39m.\u001b[39;49mID_TO_COLOR[\u001b[39m'\u001b[39;49m\u001b[39mcommon\u001b[39;49m\u001b[39m'\u001b[39;49m]\u001b[39m.\u001b[39;49mkeys()), ignore_label\u001b[39m=\u001b[39;49m\u001b[39mNone\u001b[39;49;00m)\n\u001b[0;32m      <a href='vscode-notebook-cell:/c%3A/Users/Manuel/Projects/GitHub_Repositories/master_thesis/python_scripts_semseg/infer.ipynb#X10sZmlsZQ%3D%3D?line=5'>6</a>\u001b[0m     \u001b[39mprint\u001b[39m(\u001b[39mf\u001b[39m\u001b[39m'\u001b[39m\u001b[39mMean IoU: \u001b[39m\u001b[39m{\u001b[39;00mmiou\u001b[39m}\u001b[39;00m\u001b[39m'\u001b[39m)\n\u001b[0;32m      <a href='vscode-notebook-cell:/c%3A/Users/Manuel/Projects/GitHub_Repositories/master_thesis/python_scripts_semseg/infer.ipynb#X10sZmlsZQ%3D%3D?line=6'>7</a>\u001b[0m     \u001b[39mprint\u001b[39m(\u001b[39mf\u001b[39m\u001b[39m'\u001b[39m\u001b[39mIoUs: \u001b[39m\u001b[39m{\u001b[39;00mious\u001b[39m}\u001b[39;00m\u001b[39m'\u001b[39m)\n",
      "File \u001b[1;32mc:\\Users\\Manuel\\Projects\\GitHub_Repositories\\master_thesis\\python_scripts_semseg\\utils.py:8\u001b[0m, in \u001b[0;36mmeasure_performance\u001b[1;34m(predictions, targets, num_classes, ignore_label, smooth)\u001b[0m\n\u001b[0;32m      6\u001b[0m \u001b[39mdef\u001b[39;00m \u001b[39mmeasure_performance\u001b[39m(predictions, targets, num_classes, ignore_label\u001b[39m=\u001b[39m\u001b[39mNone\u001b[39;00m, smooth\u001b[39m=\u001b[39msys\u001b[39m.\u001b[39mfloat_info\u001b[39m.\u001b[39mepsilon):\n\u001b[0;32m      7\u001b[0m     confusion_mat \u001b[39m=\u001b[39m confusion_matrix(targets\u001b[39m.\u001b[39mflatten(), predictions\u001b[39m.\u001b[39mflatten(), labels\u001b[39m=\u001b[39m\u001b[39mrange\u001b[39m(num_classes))\n\u001b[1;32m----> 8\u001b[0m     ious \u001b[39m=\u001b[39m []\n\u001b[0;32m     10\u001b[0m     \u001b[39mfor\u001b[39;00m c \u001b[39min\u001b[39;00m \u001b[39mrange\u001b[39m(num_classes):\n\u001b[0;32m     11\u001b[0m         \u001b[39mif\u001b[39;00m c \u001b[39m!=\u001b[39m ignore_label:\n",
      "File \u001b[1;32mc:\\Users\\Manuel\\Projects\\GitHub_Repositories\\master_thesis\\python_scripts_semseg\\utils.py:8\u001b[0m, in \u001b[0;36mmeasure_performance\u001b[1;34m(predictions, targets, num_classes, ignore_label, smooth)\u001b[0m\n\u001b[0;32m      6\u001b[0m \u001b[39mdef\u001b[39;00m \u001b[39mmeasure_performance\u001b[39m(predictions, targets, num_classes, ignore_label\u001b[39m=\u001b[39m\u001b[39mNone\u001b[39;00m, smooth\u001b[39m=\u001b[39msys\u001b[39m.\u001b[39mfloat_info\u001b[39m.\u001b[39mepsilon):\n\u001b[0;32m      7\u001b[0m     confusion_mat \u001b[39m=\u001b[39m confusion_matrix(targets\u001b[39m.\u001b[39mflatten(), predictions\u001b[39m.\u001b[39mflatten(), labels\u001b[39m=\u001b[39m\u001b[39mrange\u001b[39m(num_classes))\n\u001b[1;32m----> 8\u001b[0m     ious \u001b[39m=\u001b[39m []\n\u001b[0;32m     10\u001b[0m     \u001b[39mfor\u001b[39;00m c \u001b[39min\u001b[39;00m \u001b[39mrange\u001b[39m(num_classes):\n\u001b[0;32m     11\u001b[0m         \u001b[39mif\u001b[39;00m c \u001b[39m!=\u001b[39m ignore_label:\n",
      "File \u001b[1;32m_pydevd_bundle/pydevd_cython.pyx:1363\u001b[0m, in \u001b[0;36m_pydevd_bundle.pydevd_cython.SafeCallWrapper.__call__\u001b[1;34m()\u001b[0m\n",
      "File \u001b[1;32m_pydevd_bundle/pydevd_cython.pyx:662\u001b[0m, in \u001b[0;36m_pydevd_bundle.pydevd_cython.PyDBFrame.trace_dispatch\u001b[1;34m()\u001b[0m\n",
      "File \u001b[1;32m_pydevd_bundle/pydevd_cython.pyx:1288\u001b[0m, in \u001b[0;36m_pydevd_bundle.pydevd_cython.PyDBFrame.trace_dispatch\u001b[1;34m()\u001b[0m\n",
      "File \u001b[1;32m_pydevd_bundle/pydevd_cython.pyx:1250\u001b[0m, in \u001b[0;36m_pydevd_bundle.pydevd_cython.PyDBFrame.trace_dispatch\u001b[1;34m()\u001b[0m\n",
      "File \u001b[1;32m_pydevd_bundle/pydevd_cython.pyx:297\u001b[0m, in \u001b[0;36m_pydevd_bundle.pydevd_cython.PyDBFrame.do_wait_suspend\u001b[1;34m()\u001b[0m\n",
      "File \u001b[1;32mc:\\ProgramData\\Anaconda3\\lib\\site-packages\\debugpy\\_vendored\\pydevd\\pydevd.py:1976\u001b[0m, in \u001b[0;36mPyDB.do_wait_suspend\u001b[1;34m(self, thread, frame, event, arg, exception_type)\u001b[0m\n\u001b[0;32m   1973\u001b[0m             from_this_thread\u001b[39m.\u001b[39mappend(frame_custom_thread_id)\n\u001b[0;32m   1975\u001b[0m     \u001b[39mwith\u001b[39;00m \u001b[39mself\u001b[39m\u001b[39m.\u001b[39m_threads_suspended_single_notification\u001b[39m.\u001b[39mnotify_thread_suspended(thread_id, stop_reason):\n\u001b[1;32m-> 1976\u001b[0m         keep_suspended \u001b[39m=\u001b[39m \u001b[39mself\u001b[39;49m\u001b[39m.\u001b[39;49m_do_wait_suspend(thread, frame, event, arg, suspend_type, from_this_thread, frames_tracker)\n\u001b[0;32m   1978\u001b[0m frames_list \u001b[39m=\u001b[39m \u001b[39mNone\u001b[39;00m\n\u001b[0;32m   1980\u001b[0m \u001b[39mif\u001b[39;00m keep_suspended:\n\u001b[0;32m   1981\u001b[0m     \u001b[39m# This means that we should pause again after a set next statement.\u001b[39;00m\n",
      "File \u001b[1;32mc:\\ProgramData\\Anaconda3\\lib\\site-packages\\debugpy\\_vendored\\pydevd\\pydevd.py:2011\u001b[0m, in \u001b[0;36mPyDB._do_wait_suspend\u001b[1;34m(self, thread, frame, event, arg, suspend_type, from_this_thread, frames_tracker)\u001b[0m\n\u001b[0;32m   2008\u001b[0m         \u001b[39mself\u001b[39m\u001b[39m.\u001b[39m_call_mpl_hook()\n\u001b[0;32m   2010\u001b[0m     \u001b[39mself\u001b[39m\u001b[39m.\u001b[39mprocess_internal_commands()\n\u001b[1;32m-> 2011\u001b[0m     time\u001b[39m.\u001b[39;49msleep(\u001b[39m0.01\u001b[39;49m)\n\u001b[0;32m   2013\u001b[0m \u001b[39mself\u001b[39m\u001b[39m.\u001b[39mcancel_async_evaluation(get_current_thread_id(thread), \u001b[39mstr\u001b[39m(\u001b[39mid\u001b[39m(frame)))\n\u001b[0;32m   2015\u001b[0m \u001b[39m# process any stepping instructions\u001b[39;00m\n",
      "\u001b[1;31mKeyboardInterrupt\u001b[0m: "
     ]
    }
   ],
   "source": [
    "# ignore_label = 19\n",
    "with torch.no_grad():\n",
    "    \n",
    "    confusion_mat = utils.compute_confusion_matrix(predictions=tgt, targets=tgt, num_classes=len(data.SemanticLabelMapper.ID_TO_COLOR['common'].keys()))\n",
    "    miou, ious = utils.measure_performance(confusion_mat=confusion_mat, num_classes=len(data.SemanticLabelMapper.ID_TO_COLOR['common'].keys()), ignore_label=None)\n",
    "\n",
    "    print(f'Mean IoU: {miou}')\n",
    "    print(f'IoUs: {ious}')\n",
    "    "
   ]
  }
 ],
 "metadata": {
  "kernelspec": {
   "display_name": "base",
   "language": "python",
   "name": "python3"
  },
  "language_info": {
   "codemirror_mode": {
    "name": "ipython",
    "version": 3
   },
   "file_extension": ".py",
   "mimetype": "text/x-python",
   "name": "python",
   "nbconvert_exporter": "python",
   "pygments_lexer": "ipython3",
   "version": "3.8.12"
  },
  "orig_nbformat": 4,
  "vscode": {
   "interpreter": {
    "hash": "ad2bdc8ecc057115af97d19610ffacc2b4e99fae6737bb82f5d7fb13d2f2c186"
   }
  }
 },
 "nbformat": 4,
 "nbformat_minor": 2
}
