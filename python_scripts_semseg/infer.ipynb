{
 "cells": [
  {
   "cell_type": "code",
   "execution_count": 18,
   "metadata": {},
   "outputs": [],
   "source": [
    "import torch\n",
    "import torchvision\n",
    "import torchvision.models.segmentation.deeplabv3 as dlv3\n",
    "import torchvision.transforms.functional as tf\n",
    "import numpy as np\n",
    "import data\n",
    "import utils\n",
    "from PIL import Image\n",
    "from matplotlib import pyplot as plt\n",
    "from matplotlib.colors import LinearSegmentedColormap"
   ]
  },
  {
   "cell_type": "code",
   "execution_count": 19,
   "metadata": {},
   "outputs": [],
   "source": [
    "def show_prediction(input_image, pred_image, label_color_map, label_string_map):\n",
    "    label_legend_col = []\n",
    "\n",
    "    \n",
    "    # for i in range(len(label_color_map)):\n",
    "    #     color = label_color_map.values()[i] + [255]\n",
    "    #     color = np.array(color, dtype=np.float32)\n",
    "    #     color /= 255.0\n",
    "    #     label_legend_col.append(color.tolist())\n",
    "\n",
    "def map_scalars_to_colors(scalars_mask, pixel_mapping):\n",
    "    colors_mask = Image.new(mode=\"RGB\", size=(scalars_mask.size[0], scalars_mask.size[1]))\n",
    "    for i in range(scalars_mask.size[0]):\n",
    "        for j in range(scalars_mask.size[1]):\n",
    "            p =  scalars_mask.getpixel((i,j))\n",
    "            colors_mask.putpixel((i,j), pixel_mapping[scalars_mask.getpixel((i,j))])\n",
    "    return colors_mask"
   ]
  },
  {
   "cell_type": "code",
   "execution_count": 20,
   "metadata": {},
   "outputs": [],
   "source": [
    "model_parameters_load_path = r'G:/My Drive/Master IVA/Master Thesis/Models/20230322_214215/deeplabv3_model.pt'\n",
    "    \n",
    "ipt_path = r'G:\\My Drive\\Master IVA\\Master Thesis\\Datasets\\real\\test\\rgb\\real_rgb_3.png'\n",
    "tgt_path = r'G:\\My Drive\\Master IVA\\Master Thesis\\Datasets\\real\\test\\semantic_segmentation_mapped\\real_semantic_segmentation_3.png'\n",
    "\n",
    "num_classes = len(data.SemanticLabelMapper.ID_TO_STRING['common'].keys())\n",
    "infer_width_resize = 128\n",
    "infer_height_resize = 128"
   ]
  },
  {
   "cell_type": "code",
   "execution_count": 21,
   "metadata": {},
   "outputs": [
    {
     "name": "stderr",
     "output_type": "stream",
     "text": [
      "c:\\ProgramData\\Anaconda3\\lib\\site-packages\\torchvision\\models\\_utils.py:208: UserWarning: The parameter 'pretrained' is deprecated since 0.13 and will be removed in 0.15, please use 'weights' instead.\n",
      "  warnings.warn(\n",
      "c:\\ProgramData\\Anaconda3\\lib\\site-packages\\torchvision\\models\\_utils.py:223: UserWarning: Arguments other than a weight enum or `None` for 'weights' are deprecated since 0.13 and will be removed in 0.15. The current behavior is equivalent to passing `weights=None`.\n",
      "  warnings.warn(msg)\n"
     ]
    },
    {
     "name": "stdout",
     "output_type": "stream",
     "text": [
      "Loaded model to device.\n"
     ]
    }
   ],
   "source": [
    "device = torch.device(\"cuda\" if torch.cuda.is_available() else \"cpu\")\n",
    "model = dlv3.deeplabv3_resnet50(pretrained=False, progress=True, num_classes=19)\n",
    "model.load_state_dict(torch.load(model_parameters_load_path))\n",
    "model.eval()\n",
    "model.to(device)\n",
    "print('Loaded model to device.')"
   ]
  },
  {
   "cell_type": "code",
   "execution_count": 22,
   "metadata": {},
   "outputs": [],
   "source": [
    "pil_ipt = Image.open(f'{ipt_path}', mode='r')\n",
    "transform = torchvision.transforms.Resize((infer_height_resize, infer_width_resize))\n",
    "ipt = tf.to_tensor(np.array(pil_ipt).astype(np.float32))\n",
    "ipt = transform(ipt).unsqueeze(0).to(device)\n",
    "\n",
    "pil_tgt = Image.open(f'{tgt_path}', mode='r')\n",
    "transform = torchvision.transforms.Resize((infer_height_resize, infer_width_resize))\n",
    "tgt = tf.to_tensor(np.array(pil_tgt).astype(np.float32)).long()\n",
    "tgt = transform(tgt)"
   ]
  },
  {
   "cell_type": "code",
   "execution_count": 23,
   "metadata": {},
   "outputs": [],
   "source": [
    "tgt_colors_mask = map_scalars_to_colors(pil_tgt, data.SemanticLabelMapper.ID_TO_COLOR['common'])"
   ]
  },
  {
   "cell_type": "code",
   "execution_count": 25,
   "metadata": {},
   "outputs": [],
   "source": [
    "rgb_tgt_blend = Image.blend(pil_ipt, tgt_colors_mask, 0.5)\n",
    "rgb_tgt_blend.show()"
   ]
  },
  {
   "cell_type": "code",
   "execution_count": null,
   "metadata": {},
   "outputs": [],
   "source": [
    "# ignore_label = 19\n",
    "# with torch.no_grad():\n",
    "#     input_image = pil_ipt.resize(size=(infer_width_resize, infer_width_resize), resample=Image.Resampling.BILINEAR)\n",
    "    \n",
    "#     pred = model(ipt)['out']\n",
    "#     pred = pred.data.cpu()[0]\n",
    "#     pred = np.argmax(pred, axis=0).unsqueeze(0)\n",
    "    \n",
    "#     miou, ious = utils.measure_performance(predictions=pred, targets=tgt, num_classes=20, ignore_label=ignore_label)\n",
    "\n",
    "#     print(f'Mean IoU: {miou}')\n",
    "#     print(f'IoUs: {ious}')\n",
    "    \n",
    "#     show_prediction(input_image=input_image, \n",
    "#                     pred_image=pred.squeeze(0).numpy(), \n",
    "#                     label_color_map=data.SemanticLabelMapper.ID_TO_COLOR['common'],\n",
    "#                     label_string_map=data.SemanticLabelMapper.ID_TO_STRING['common'])"
   ]
  }
 ],
 "metadata": {
  "kernelspec": {
   "display_name": "base",
   "language": "python",
   "name": "python3"
  },
  "language_info": {
   "codemirror_mode": {
    "name": "ipython",
    "version": 3
   },
   "file_extension": ".py",
   "mimetype": "text/x-python",
   "name": "python",
   "nbconvert_exporter": "python",
   "pygments_lexer": "ipython3",
   "version": "3.8.12"
  },
  "orig_nbformat": 4
 },
 "nbformat": 4,
 "nbformat_minor": 2
}
