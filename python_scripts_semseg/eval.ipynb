{
 "cells": [
  {
   "cell_type": "code",
   "execution_count": 49,
   "metadata": {},
   "outputs": [],
   "source": [
    "import data\n",
    "import utils\n",
    "import json\n",
    "import torch\n",
    "import torchvision\n",
    "import numpy as np\n",
    "import sklearn.metrics as skm\n",
    "import torchvision.models.segmentation.deeplabv3 as dlv3\n",
    "from torch.utils.data import DataLoader\n",
    "from torch.utils.data import Subset\n",
    "from tqdm import tqdm"
   ]
  },
  {
   "attachments": {},
   "cell_type": "markdown",
   "metadata": {},
   "source": [
    "## Test-related functions"
   ]
  },
  {
   "cell_type": "code",
   "execution_count": 50,
   "metadata": {},
   "outputs": [],
   "source": [
    "def eval(model, test_dataloader, tgt_num_classes, tgt_ignore_label=None):\n",
    "    model.eval()\n",
    "    average_miou = 0\n",
    "    average_ious = np.zeros((tgt_num_classes,))\n",
    "    with torch.no_grad():\n",
    "        for (inputs, targets) in tqdm(test_dataloader, desc='Batch progress'):\n",
    "            ipts = torch.autograd.Variable(inputs).cuda()\n",
    "            tgts = torch.autograd.Variable(targets).cuda()\n",
    "            \n",
    "            preds = model(ipts)['out']\n",
    "            preds = torch.argmax(preds.cpu(), dim=1)\n",
    "            tgts = torch.squeeze(targets, dim=1)\n",
    "\n",
    "            miou, ious = utils.measure_performance(predictions=preds, targets=tgts, num_classes=tgt_num_classes, ignore_label=tgt_ignore_label)\n",
    "            average_ious += ious\n",
    "            average_miou += miou\n",
    "            \n",
    "        average_ious /= len(test_dataloader)\n",
    "        average_miou /= len(test_dataloader)\n",
    "\n",
    "    return {'average_miou': np.round(average_miou, 3), 'average_ious': np.round(average_ious, 3)}"
   ]
  },
  {
   "attachments": {},
   "cell_type": "markdown",
   "metadata": {},
   "source": [
    "## Test configuration loading"
   ]
  },
  {
   "cell_type": "code",
   "execution_count": null,
   "metadata": {},
   "outputs": [],
   "source": [
    "import pprint\n",
    "args = {}\n",
    "with open('G:/My Drive/Master IVA/Master Thesis/Configs/eval-config.json') as json_file:\n",
    "    args = json.load(json_file)\n",
    "pprint.pprint(args)\n"
   ]
  },
  {
   "attachments": {},
   "cell_type": "markdown",
   "metadata": {},
   "source": [
    "## Data loading and preprocessing"
   ]
  },
  {
   "cell_type": "code",
   "execution_count": 54,
   "metadata": {},
   "outputs": [],
   "source": [
    "test_dataset = data.HybridDataset(\n",
    "        root_path=f'G:/My Drive/Master IVA/Master Thesis/Datasets/{args[\"data_source\"]}/test',\n",
    "        input_dir='rgb',\n",
    "        target_dir='semantic_segmentation_mapped',\n",
    "        ipt_transform=torchvision.transforms.Compose([torchvision.transforms.Resize((args[\"image_height\"], args[\"image_width\"])),\n",
    "                                                      torchvision.transforms.Normalize(mean=args[\"train_mean\"], std=args[\"train_std\"])]),\n",
    "        tgt_transform=torchvision.transforms.Compose([torchvision.transforms.Resize((args[\"image_height\"], args[\"image_width\"]))]),                        \n",
    "        type=args['data_source'],\n",
    "        labels_mapping=None)\n",
    "test_dataset = Subset(test_dataset, indices=range(args['test_subset_size']))\n",
    "test_dataloader = DataLoader(\n",
    "    dataset=test_dataset,\n",
    "    batch_size=args['test_batch_size'],\n",
    "    shuffle=False\n",
    ")"
   ]
  },
  {
   "attachments": {},
   "cell_type": "markdown",
   "metadata": {},
   "source": [
    "## Model under test preparation"
   ]
  },
  {
   "cell_type": "code",
   "execution_count": null,
   "metadata": {},
   "outputs": [],
   "source": [
    "# File parameters\n",
    "device = torch.device(\"cuda\" if torch.cuda.is_available() else \"cpu\")\n",
    "model = dlv3.deeplabv3_resnet50(pretrained=False, progress=True, num_classes=len(data.SemanticLabelMapper.ID_TO_STRING['common'].keys()))\n",
    "model.load_state_dict(torch.load(f'{args[\"model_load_folder_path\"]}/deeplabv3_model.pt'))\n",
    "model.to(device)\n",
    "print('Loaded model to device.')"
   ]
  },
  {
   "cell_type": "code",
   "execution_count": null,
   "metadata": {},
   "outputs": [],
   "source": [
    "test_metrics = eval(model=model, \n",
    "                    test_dataloader=test_dataloader, \n",
    "                    tgt_num_classes=len(data.SemanticLabelMapper.ID_TO_STRING['common'].keys()),\n",
    "                    tgt_ignore_label=None)\n",
    "test_metrics['average_ious'] = {k:v for k,v in zip(data.SemanticLabelMapper.ID_TO_STRING['common'].values(),\n",
    "                                                   test_metrics['average_ious'])}\n",
    "print(test_metrics)"
   ]
  }
 ],
 "metadata": {
  "kernelspec": {
   "display_name": "base",
   "language": "python",
   "name": "python3"
  },
  "language_info": {
   "codemirror_mode": {
    "name": "ipython",
    "version": 3
   },
   "file_extension": ".py",
   "mimetype": "text/x-python",
   "name": "python",
   "nbconvert_exporter": "python",
   "pygments_lexer": "ipython3",
   "version": "3.8.12"
  },
  "orig_nbformat": 4
 },
 "nbformat": 4,
 "nbformat_minor": 2
}
