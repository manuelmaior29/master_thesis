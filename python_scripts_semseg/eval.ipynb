{
 "cells": [
  {
   "cell_type": "code",
   "execution_count": 28,
   "metadata": {},
   "outputs": [],
   "source": [
    "import data\n",
    "import utils\n",
    "import json\n",
    "import torch\n",
    "import torchvision\n",
    "import numpy as np\n",
    "import sklearn.metrics as skm\n",
    "import torchvision.models.segmentation.deeplabv3 as dlv3\n",
    "from torch.utils.data import DataLoader\n",
    "from torch.utils.data import Subset\n",
    "from tqdm import tqdm"
   ]
  },
  {
   "attachments": {},
   "cell_type": "markdown",
   "metadata": {},
   "source": [
    "## Test-related functions"
   ]
  },
  {
   "cell_type": "code",
   "execution_count": 29,
   "metadata": {},
   "outputs": [],
   "source": [
    "def eval(model, test_dataloader, tgt_num_classes, tgt_ignore_label=None):\n",
    "    model.eval()\n",
    "    confusion_mat = np.zeros(shape=(tgt_num_classes, tgt_num_classes), dtype=np.int64)\n",
    "    \n",
    "    with torch.no_grad():\n",
    "        for (inputs, targets) in tqdm(test_dataloader, desc='Batch progress'):\n",
    "            ipts = inputs.to('cuda', non_blocking=True)# torch.autograd.Variable(inputs).cuda()\n",
    "            tgts = targets.to('cuda', non_blocking=True)# torch.autograd.Variable(targets).cuda()\n",
    "            \n",
    "            preds = model(ipts)['out']\n",
    "            preds = torch.argmax(preds.cpu(), dim=1)\n",
    "            tgts = torch.squeeze(targets, dim=1)\n",
    "\n",
    "            confusion_mat = np.add(confusion_mat, utils.compute_confusion_matrix(predictions=preds, targets=tgts, num_classes=tgt_num_classes))\n",
    "        \n",
    "        miou, ious = utils.measure_performance(confusion_mat=confusion_mat,\n",
    "                                               num_classes=tgt_num_classes,\n",
    "                                               ignore_label=tgt_ignore_label)\n",
    "\n",
    "    return {'miou': np.round(miou, 4), 'ious': np.round(ious, 4)}"
   ]
  },
  {
   "attachments": {},
   "cell_type": "markdown",
   "metadata": {},
   "source": [
    "## Test configuration loading"
   ]
  },
  {
   "cell_type": "code",
   "execution_count": 30,
   "metadata": {},
   "outputs": [
    {
     "name": "stdout",
     "output_type": "stream",
     "text": [
      "{'data_source': 'real',\n",
      " 'ignore_label': 19,\n",
      " 'image_height': 256,\n",
      " 'image_width': 512,\n",
      " 'model_load_folder_path': 'G:/My Drive/Master IVA/Master '\n",
      "                           'Thesis/Models/20230409_211303',\n",
      " 'test_batch_size': 4,\n",
      " 'test_subset_size': 200,\n",
      " 'train_mean': [0.39532706141471863, 0.3791861832141876, 0.36232122778892517],\n",
      " 'train_std': [0.20954108238220215, 0.20490853488445282, 0.20333392918109894]}\n"
     ]
    }
   ],
   "source": [
    "import pprint\n",
    "args = {}\n",
    "with open('G:/My Drive/Master IVA/Master Thesis/Models/20230410_052707/eval-config.json') as json_file:\n",
    "    args = json.load(json_file)\n",
    "pprint.pprint(args)\n"
   ]
  },
  {
   "attachments": {},
   "cell_type": "markdown",
   "metadata": {},
   "source": [
    "## Data loading and preprocessing"
   ]
  },
  {
   "cell_type": "code",
   "execution_count": 31,
   "metadata": {},
   "outputs": [],
   "source": [
    "test_dataset = data.HybridDataset(\n",
    "        root_path=f'E:/Datasets/{args[\"data_source\"]}/val',\n",
    "        input_dir='rgb',\n",
    "        target_dir='semantic_segmentation_mapped',\n",
    "        ipt_transform=torchvision.transforms.Compose([torchvision.transforms.Resize((args[\"image_height\"], args[\"image_width\"])),\n",
    "                                                      torchvision.transforms.Normalize(mean=args[\"train_mean\"], std=args[\"train_std\"])]),\n",
    "        tgt_transform=torchvision.transforms.Compose([torchvision.transforms.Resize((args[\"image_height\"], args[\"image_width\"]))]),                        \n",
    "        type=args['data_source'],\n",
    "        labels_mapping=None)\n",
    "test_dataset = Subset(test_dataset, indices=range(args['test_subset_size']))\n",
    "test_dataloader = DataLoader(\n",
    "    dataset=test_dataset,\n",
    "    batch_size=args['test_batch_size'],\n",
    "    shuffle=False\n",
    ")"
   ]
  },
  {
   "attachments": {},
   "cell_type": "markdown",
   "metadata": {},
   "source": [
    "## Model under test preparation"
   ]
  },
  {
   "cell_type": "code",
   "execution_count": 32,
   "metadata": {},
   "outputs": [
    {
     "name": "stdout",
     "output_type": "stream",
     "text": [
      "Loaded model to device.\n"
     ]
    }
   ],
   "source": [
    "# File parameters\n",
    "device = torch.device(\"cuda\" if torch.cuda.is_available() else \"cpu\")\n",
    "model = dlv3.deeplabv3_resnet50(weights=None, progress=True, num_classes=len(data.SemanticLabelMapper.ID_TO_STRING['common'].keys()))\n",
    "model.load_state_dict(torch.load(f'{args[\"model_load_folder_path\"]}/deeplabv3_model.pt'))\n",
    "model.to(device)\n",
    "print('Loaded model to device.')"
   ]
  },
  {
   "cell_type": "code",
   "execution_count": 33,
   "metadata": {},
   "outputs": [
    {
     "name": "stderr",
     "output_type": "stream",
     "text": [
      "Batch progress: 100%|██████████| 50/50 [00:34<00:00,  1.46it/s]\n"
     ]
    }
   ],
   "source": [
    "test_metrics = eval(model=model, \n",
    "                    test_dataloader=test_dataloader, \n",
    "                    tgt_num_classes=len(data.SemanticLabelMapper.ID_TO_STRING['common'].keys()),\n",
    "                    tgt_ignore_label=None)\n",
    "test_metrics['ious'] = {k:v for k,v in zip(data.SemanticLabelMapper.ID_TO_STRING['common'].values(),\n",
    "                                                   test_metrics['ious'])}\n"
   ]
  },
  {
   "cell_type": "code",
   "execution_count": 34,
   "metadata": {},
   "outputs": [
    {
     "name": "stdout",
     "output_type": "stream",
     "text": [
      "{'miou': 0.1222, 'ious': {'road': 0.2223, 'sidewalk': 0.0857, 'building': 0.5319, 'wall': 0.0262, 'fence': 0.001, 'trafficlight': 0.0149, 'trafficsign': 0.0256, 'vegetation': 0.6436, 'terrain': 0.0437, 'pedestrian': 0.114, 'rider': 0.0222, 'car': 0.1486, 'truck': 0.0066, 'bus': 0.0227, 'motorcycle': 0.0018, 'bicycle': 0.0, 'background': 0.1663}}\n"
     ]
    }
   ],
   "source": [
    "print(test_metrics)\n",
    "test_metrics = json.dumps(test_metrics, indent=4)\n",
    "with open(f'{args[\"model_load_folder_path\"]}/eval_metrics.json', mode='w') as f:\n",
    "    f.write(test_metrics)"
   ]
  }
 ],
 "metadata": {
  "kernelspec": {
   "display_name": "base",
   "language": "python",
   "name": "python3"
  },
  "language_info": {
   "codemirror_mode": {
    "name": "ipython",
    "version": 3
   },
   "file_extension": ".py",
   "mimetype": "text/x-python",
   "name": "python",
   "nbconvert_exporter": "python",
   "pygments_lexer": "ipython3",
   "version": "3.10.9"
  },
  "orig_nbformat": 4
 },
 "nbformat": 4,
 "nbformat_minor": 2
}
