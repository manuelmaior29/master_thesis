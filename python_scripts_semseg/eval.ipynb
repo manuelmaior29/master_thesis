{
 "cells": [
  {
   "cell_type": "code",
   "execution_count": 49,
   "metadata": {},
   "outputs": [],
   "source": [
    "import data\n",
    "import utils\n",
    "import json\n",
    "import torch\n",
    "import torchvision\n",
    "import numpy as np\n",
    "import sklearn.metrics as skm\n",
    "import torchvision.models.segmentation.deeplabv3 as dlv3\n",
    "from torch.utils.data import DataLoader\n",
    "from torch.utils.data import Subset\n",
    "from tqdm import tqdm"
   ]
  },
  {
   "attachments": {},
   "cell_type": "markdown",
   "metadata": {},
   "source": [
    "## Test-related functions"
   ]
  },
  {
   "cell_type": "code",
   "execution_count": 50,
   "metadata": {},
   "outputs": [],
   "source": [
    "def eval(model, test_dataloader, tgt_num_classes, tgt_ignore_label=None):\n",
    "    model.eval()\n",
    "    average_miou = 0\n",
    "    average_ious = np.zeros((tgt_num_classes,))\n",
    "    with torch.no_grad():\n",
    "        for (inputs, targets) in tqdm(test_dataloader, desc='Batch progress'):\n",
    "            ipts = torch.autograd.Variable(inputs).cuda()\n",
    "            tgts = torch.autograd.Variable(targets).cuda()\n",
    "            \n",
    "            preds = model(ipts)['out']\n",
    "            preds = torch.argmax(preds.cpu(), dim=1)\n",
    "            tgts = torch.squeeze(targets, dim=1)\n",
    "\n",
    "            miou, ious = utils.measure_performance(predictions=preds, targets=tgts, num_classes=tgt_num_classes, ignore_label=tgt_ignore_label)\n",
    "            average_ious += ious\n",
    "            average_miou += miou\n",
    "            \n",
    "        average_ious /= len(test_dataloader)\n",
    "        average_miou /= len(test_dataloader)\n",
    "\n",
    "    return {'average_miou': np.round(average_miou, 3), 'average_ious': np.round(average_ious, 3)}"
   ]
  },
  {
   "attachments": {},
   "cell_type": "markdown",
   "metadata": {},
   "source": [
    "## Test configuration loading"
   ]
  },
  {
   "cell_type": "code",
   "execution_count": 51,
   "metadata": {},
   "outputs": [
    {
     "name": "stdout",
     "output_type": "stream",
     "text": [
      "{'data_source': 'real',\n",
      " 'ignore_label': 19,\n",
      " 'image_height': 256,\n",
      " 'image_width': 256,\n",
      " 'model_load_path': 'G:/My Drive/Master IVA/Master '\n",
      "                    'Thesis/Models/20230322_214215/deeplabv3_model.pt',\n",
      " 'test_batch_size': 4,\n",
      " 'test_subset_size': 250}\n"
     ]
    }
   ],
   "source": [
    "import pprint\n",
    "args = {}\n",
    "with open('G:/My Drive/Master IVA/Master Thesis/Configs/eval-config-1.json') as json_file:\n",
    "    args = json.load(json_file)\n",
    "pprint.pprint(args)"
   ]
  },
  {
   "attachments": {},
   "cell_type": "markdown",
   "metadata": {},
   "source": [
    "## Data loading and preprocessing"
   ]
  },
  {
   "cell_type": "code",
   "execution_count": 52,
   "metadata": {},
   "outputs": [],
   "source": [
    "test_dataset = data.HybridDataset(\n",
    "        root_path=f'G:/My Drive/Master IVA/Master Thesis/Datasets/{args[\"data_source\"]}/test',\n",
    "        input_dir='rgb',\n",
    "        target_dir='semantic_segmentation_mapped',\n",
    "        ipt_transform=torchvision.transforms.Compose([torchvision.transforms.Resize((args[\"image_height\"], args[\"image_width\"]))]),\n",
    "        tgt_transform=torchvision.transforms.Compose([torchvision.transforms.Resize((args[\"image_height\"], args[\"image_width\"]))]),                        \n",
    "        type=args['data_source'],\n",
    "        labels_mapping=None)\n",
    "test_dataset = Subset(test_dataset, indices=range(250, 250 + args['test_subset_size'], 1))\n",
    "test_dataloader = DataLoader(\n",
    "    dataset=test_dataset,\n",
    "    batch_size=args['test_batch_size'],\n",
    "    shuffle=False\n",
    ")"
   ]
  },
  {
   "cell_type": "code",
   "execution_count": 53,
   "metadata": {},
   "outputs": [
    {
     "name": "stderr",
     "output_type": "stream",
     "text": [
      "Test dataset norm. params. comp. progress: 100%|██████████| 63/63 [00:33<00:00,  1.87it/s]"
     ]
    },
    {
     "name": "stdout",
     "output_type": "stream",
     "text": [
      "Test dataset 'mean':tensor([0.2604, 0.3050, 0.2668])\n",
      "Test dataset 'std deviation':tensor([0.1741, 0.1780, 0.1736])\n"
     ]
    },
    {
     "name": "stderr",
     "output_type": "stream",
     "text": [
      "\n"
     ]
    }
   ],
   "source": [
    "test_pixel_sum = torch.tensor([0.0, 0.0, 0.0])\n",
    "test_pixel_sum_sq = torch.tensor([0.0, 0.0, 0.0])\n",
    "\n",
    "for test_inputs, _ in tqdm(test_dataloader, desc='Test dataset norm. params. comp. progress'):\n",
    "    test_pixel_sum += test_inputs.sum(axis = [0, 2, 3])\n",
    "    test_pixel_sum_sq += (test_inputs ** 2).sum(axis = [0, 2, 3])\n",
    "\n",
    "test_pixel_count = args[\"test_subset_size\"] * args[\"image_width\"] * args[\"image_height\"]\n",
    "test_mean = test_pixel_sum / test_pixel_count\n",
    "test_variance = (test_pixel_sum_sq / test_pixel_count) - (test_mean ** 2)\n",
    "test_std = torch.sqrt(test_variance)\n",
    "\n",
    "print(f'Test dataset \\'mean\\':{test_mean}')\n",
    "print(f'Test dataset \\'std deviation\\':{test_std}')"
   ]
  },
  {
   "cell_type": "code",
   "execution_count": 54,
   "metadata": {},
   "outputs": [],
   "source": [
    "test_dataset = data.HybridDataset(\n",
    "        root_path=f'G:/My Drive/Master IVA/Master Thesis/Datasets/{args[\"data_source\"]}/test',\n",
    "        input_dir='rgb',\n",
    "        target_dir='semantic_segmentation_mapped',\n",
    "        ipt_transform=torchvision.transforms.Compose([torchvision.transforms.Resize((args[\"image_height\"], args[\"image_width\"])),\n",
    "                                                      torchvision.transforms.Normalize(mean=test_mean, std=test_std)]),\n",
    "        tgt_transform=torchvision.transforms.Compose([torchvision.transforms.Resize((args[\"image_height\"], args[\"image_width\"]))]),                        \n",
    "        type=args['data_source'],\n",
    "        labels_mapping=None)\n",
    "test_dataset = Subset(test_dataset, indices=range(250, 250 + args['test_subset_size'], 1))\n",
    "test_dataloader = DataLoader(\n",
    "    dataset=test_dataset,\n",
    "    batch_size=args['test_batch_size'],\n",
    "    shuffle=False\n",
    ")"
   ]
  },
  {
   "attachments": {},
   "cell_type": "markdown",
   "metadata": {},
   "source": [
    "## Model under test preparation"
   ]
  },
  {
   "cell_type": "code",
   "execution_count": 55,
   "metadata": {},
   "outputs": [
    {
     "name": "stdout",
     "output_type": "stream",
     "text": [
      "Loaded model to device.\n"
     ]
    }
   ],
   "source": [
    "# File parameters\n",
    "device = torch.device(\"cuda\" if torch.cuda.is_available() else \"cpu\")\n",
    "model = dlv3.deeplabv3_resnet50(pretrained=False, progress=True, num_classes=len(data.SemanticLabelMapper.ID_TO_STRING['common'].keys()) - 1)\n",
    "model.load_state_dict(torch.load(args['model_load_path']))\n",
    "model.to(device)\n",
    "print('Loaded model to device.')"
   ]
  },
  {
   "cell_type": "code",
   "execution_count": 56,
   "metadata": {},
   "outputs": [
    {
     "name": "stderr",
     "output_type": "stream",
     "text": [
      "Batch progress: 100%|██████████| 63/63 [01:03<00:00,  1.01s/it]"
     ]
    },
    {
     "name": "stdout",
     "output_type": "stream",
     "text": [
      "{'average_miou': 0.3, 'average_ious': {'road': 0.857, 'sidewalk': 0.618, 'building': 0.763, 'wall': 0.109, 'fence': 0.049, 'pole': 0.068, 'trafficlight': 0.054, 'trafficsign': 0.275, 'vegetation': 0.786, 'terrain': 0.265, 'sky': 0.398, 'pedestrian': 0.192, 'rider': 0.081, 'car': 0.742, 'truck': 0.039, 'bus': 0.108, 'train': 0.012, 'motorcycle': 0.007, 'bicycle': 0.272, 'any': 0.0}}\n"
     ]
    },
    {
     "name": "stderr",
     "output_type": "stream",
     "text": [
      "\n"
     ]
    }
   ],
   "source": [
    "test_metrics = eval(model=model, \n",
    "                    test_dataloader=test_dataloader, \n",
    "                    tgt_num_classes=len(data.SemanticLabelMapper.ID_TO_STRING['common'].keys()),\n",
    "                    tgt_ignore_label=args[\"ignore_label\"])\n",
    "test_metrics['average_ious'] = {k:v for k,v in zip(data.SemanticLabelMapper.ID_TO_STRING['common'].values(),\n",
    "                                                   test_metrics['average_ious'])}\n",
    "print(test_metrics)"
   ]
  }
 ],
 "metadata": {
  "kernelspec": {
   "display_name": "base",
   "language": "python",
   "name": "python3"
  },
  "language_info": {
   "codemirror_mode": {
    "name": "ipython",
    "version": 3
   },
   "file_extension": ".py",
   "mimetype": "text/x-python",
   "name": "python",
   "nbconvert_exporter": "python",
   "pygments_lexer": "ipython3",
   "version": "3.8.12"
  },
  "orig_nbformat": 4
 },
 "nbformat": 4,
 "nbformat_minor": 2
}
