{
 "cells": [
  {
   "cell_type": "code",
   "execution_count": 1,
   "metadata": {},
   "outputs": [],
   "source": [
    "import data\n",
    "import utils\n",
    "import json\n",
    "import torch\n",
    "import torchvision\n",
    "import numpy as np\n",
    "import sklearn.metrics as skm\n",
    "import torchvision.models.segmentation.deeplabv3 as dlv3\n",
    "from torch.utils.data import DataLoader\n",
    "from torch.utils.data import Subset\n",
    "from tqdm import tqdm"
   ]
  },
  {
   "attachments": {},
   "cell_type": "markdown",
   "metadata": {},
   "source": [
    "## Test-related functions"
   ]
  },
  {
   "cell_type": "code",
   "execution_count": 2,
   "metadata": {},
   "outputs": [],
   "source": [
    "def eval(model, test_dataloader, tgt_num_classes, tgt_ignore_label=None):\n",
    "    model.eval()\n",
    "    confusion_mat = np.zeros(shape=(tgt_num_classes, tgt_num_classes), dtype=np.int64)\n",
    "    \n",
    "    with torch.no_grad():\n",
    "        for (inputs, targets) in tqdm(test_dataloader, desc='Batch progress'):\n",
    "            ipts = inputs.to('cuda', non_blocking=True)# torch.autograd.Variable(inputs).cuda()\n",
    "            tgts = targets.to('cuda', non_blocking=True)# torch.autograd.Variable(targets).cuda()\n",
    "            \n",
    "            preds = model(ipts)['out']\n",
    "            preds = torch.argmax(preds.cpu(), dim=1)\n",
    "            tgts = torch.squeeze(targets, dim=1)\n",
    "\n",
    "            confusion_mat = np.add(confusion_mat, utils.compute_confusion_matrix(predictions=preds, targets=tgts, num_classes=tgt_num_classes))\n",
    "        \n",
    "        miou, ious = utils.measure_performance(confusion_mat=confusion_mat,\n",
    "                                               num_classes=tgt_num_classes,\n",
    "                                               ignore_label=tgt_ignore_label)\n",
    "\n",
    "    return {'miou': np.round(miou, 4), 'ious': np.round(ious, 4)}"
   ]
  },
  {
   "attachments": {},
   "cell_type": "markdown",
   "metadata": {},
   "source": [
    "## Test configuration loading"
   ]
  },
  {
   "cell_type": "code",
   "execution_count": 3,
   "metadata": {},
   "outputs": [
    {
     "name": "stdout",
     "output_type": "stream",
     "text": [
      "{'data_source': 'real',\n",
      " 'ignore_label': 19,\n",
      " 'image_height': 256,\n",
      " 'image_width': 512,\n",
      " 'model_load_folder_path': 'G:/My Drive/Master IVA/Master '\n",
      "                           'Thesis/Models/20230417_173551_synthetic_train_check_original_real_small_dataset',\n",
      " 'test_batch_size': 1,\n",
      " 'test_subset_size': 450,\n",
      " 'train_mean': [0.28690001368522644, 0.32519999146461487, 0.2838999927043915],\n",
      " 'train_std': [0.18639999628067017, 0.18970000743865967, 0.1867000013589859]}\n"
     ]
    }
   ],
   "source": [
    "import pprint\n",
    "args = {}\n",
    "with open('G:/My Drive/Master IVA/Master Thesis/Models/20230417_173551_synthetic_train_check_original_real_small_dataset/eval-config.json') as json_file:\n",
    "    args = json.load(json_file)\n",
    "pprint.pprint(args)\n"
   ]
  },
  {
   "attachments": {},
   "cell_type": "markdown",
   "metadata": {},
   "source": [
    "## Data loading and preprocessing"
   ]
  },
  {
   "cell_type": "code",
   "execution_count": 4,
   "metadata": {},
   "outputs": [],
   "source": [
    "test_dataset = data.HybridDataset(\n",
    "        root_path=f'E:/Datasets/{args[\"data_source\"]}/train',\n",
    "        input_dir='rgb',\n",
    "        target_dir='semantic_segmentation_mapped',\n",
    "        ipt_transform=torchvision.transforms.Compose([torchvision.transforms.Resize((args[\"image_height\"], args[\"image_width\"])),\n",
    "                                                      torchvision.transforms.Normalize(mean=args[\"train_mean\"], std=args[\"train_std\"])]),\n",
    "        tgt_transform=torchvision.transforms.Compose([torchvision.transforms.Resize((args[\"image_height\"], args[\"image_width\"]))]),                        \n",
    "        type=args['data_source'],\n",
    "        labels_mapping=None)\n",
    "test_dataset = Subset(test_dataset, indices=range(2400, 2400+args['test_subset_size']))\n",
    "test_dataloader = DataLoader(\n",
    "    dataset=test_dataset,\n",
    "    batch_size=args['test_batch_size'],\n",
    "    shuffle=False\n",
    ")"
   ]
  },
  {
   "attachments": {},
   "cell_type": "markdown",
   "metadata": {},
   "source": [
    "## Model under test preparation"
   ]
  },
  {
   "cell_type": "code",
   "execution_count": 5,
   "metadata": {},
   "outputs": [
    {
     "name": "stdout",
     "output_type": "stream",
     "text": [
      "Loaded model to device.\n"
     ]
    }
   ],
   "source": [
    "# File parameters\n",
    "device = torch.device(\"cuda\" if torch.cuda.is_available() else \"cpu\")\n",
    "model = dlv3.deeplabv3_resnet50(weights=None, progress=True, num_classes=len(data.SemanticLabelMapper.ID_TO_STRING['common'].keys()))\n",
    "model.load_state_dict(torch.load(f'{args[\"model_load_folder_path\"]}/deeplabv3_model.pt'))\n",
    "model.to(device)\n",
    "print('Loaded model to device.')"
   ]
  },
  {
   "cell_type": "code",
   "execution_count": 6,
   "metadata": {},
   "outputs": [
    {
     "name": "stderr",
     "output_type": "stream",
     "text": [
      "Batch progress: 100%|██████████| 450/450 [01:30<00:00,  4.98it/s]\n"
     ]
    }
   ],
   "source": [
    "test_metrics = eval(model=model, \n",
    "                    test_dataloader=test_dataloader, \n",
    "                    tgt_num_classes=len(data.SemanticLabelMapper.ID_TO_STRING['common'].keys()),\n",
    "                    tgt_ignore_label=None)\n",
    "test_metrics['ious'] = {k:v for k,v in zip(data.SemanticLabelMapper.ID_TO_STRING['common'].values(),\n",
    "                                                   test_metrics['ious'])}\n"
   ]
  },
  {
   "cell_type": "code",
   "execution_count": 7,
   "metadata": {},
   "outputs": [
    {
     "name": "stdout",
     "output_type": "stream",
     "text": [
      "{'miou': 0.3852, 'ious': {'road': 0.8714, 'sidewalk': 0.5312, 'building': 0.7859, 'wall': 0.1611, 'fence': 0.1839, 'trafficlight': 0.156, 'trafficsign': 0.2437, 'vegetation': 0.8432, 'terrain': 0.4395, 'pedestrian': 0.4105, 'rider': 0.0927, 'car': 0.7991, 'truck': 0.0057, 'bus': 0.104, 'motorcycle': 0.0944, 'bicycle': 0.289, 'background': 0.537}}\n"
     ]
    }
   ],
   "source": [
    "print(test_metrics)\n",
    "test_metrics = json.dumps(test_metrics, indent=4)\n",
    "with open(f'{args[\"model_load_folder_path\"]}/eval_metrics.json', mode='w') as f:\n",
    "    f.write(test_metrics)"
   ]
  }
 ],
 "metadata": {
  "kernelspec": {
   "display_name": "base",
   "language": "python",
   "name": "python3"
  },
  "language_info": {
   "codemirror_mode": {
    "name": "ipython",
    "version": 3
   },
   "file_extension": ".py",
   "mimetype": "text/x-python",
   "name": "python",
   "nbconvert_exporter": "python",
   "pygments_lexer": "ipython3",
   "version": "3.10.9"
  },
  "orig_nbformat": 4
 },
 "nbformat": 4,
 "nbformat_minor": 2
}
