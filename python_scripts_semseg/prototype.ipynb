{
  "cells": [
    {
      "cell_type": "code",
      "execution_count": 46,
      "metadata": {
        "id": "6RtFDqwe_-oh"
      },
      "outputs": [],
      "source": [
        "import os\n",
        "import sys\n",
        "import json\n",
        "import torch\n",
        "import torch.nn as nn\n",
        "import torchvision\n",
        "import torchvision.models.segmentation.deeplabv3 as dlv3\n",
        "import torchvision.transforms.functional as tf\n",
        "import matplotlib.pyplot as plt\n",
        "import numpy as np\n",
        "from torch.utils.data import DataLoader\n",
        "from torch.utils.data import Dataset\n",
        "from torch.utils.data import Subset\n",
        "from torchsummary import summary\n",
        "from sklearn.metrics import confusion_matrix\n",
        "from tqdm import tqdm\n",
        "from PIL import Image"
      ]
    },
    {
      "cell_type": "markdown",
      "metadata": {
        "id": "n-XbdQq5_-ok"
      },
      "source": [
        "## Data utilities"
      ]
    },
    {
      "cell_type": "code",
      "execution_count": 47,
      "metadata": {
        "id": "YhcL_nv4_-ol"
      },
      "outputs": [],
      "source": [
        "class SemanticLabelMapper():\n",
        "    \n",
        "    ID_TO_STRING = {\n",
        "        'common': {\n",
        "            0: 'road',\n",
        "            1: 'sidewalk',\n",
        "            2: 'building',\n",
        "            3: 'wall',\n",
        "            4: 'fence',\n",
        "            5: 'pole',\n",
        "            6: 'trafficlight',\n",
        "            7: 'trafficsign',\n",
        "            8: 'vegetation',\n",
        "            9: 'terrain',\n",
        "            10: 'sky',\n",
        "            11: 'pedestrian',\n",
        "            12: 'rider',\n",
        "            13: 'car',\n",
        "            14: 'truck',\n",
        "            15: 'bus',\n",
        "            16: 'train',\n",
        "            17: 'motorcycle',\n",
        "            18: 'bicycle',\n",
        "            19: 'any'\n",
        "        }\n",
        "    }\n",
        "\n",
        "    ID_TO_COLOR = {\n",
        "        'common': {\n",
        "            0: [70, 70, 70],\n",
        "            1: [100, 40, 40],\n",
        "            2: [55, 90, 80],\n",
        "            3: [220, 20, 60],\n",
        "            4: [153, 153, 153],\n",
        "            5: [157, 234, 50],\n",
        "            6: [128, 64, 128],\n",
        "            7: [244, 35, 232],\n",
        "            8: [107, 142, 35],\n",
        "            9: [0, 0, 142],\n",
        "            10: [102, 102, 156],\n",
        "            11: [220, 220, 0],\n",
        "            12: [70, 130, 180],\n",
        "            13: [81, 0, 81],\n",
        "            14: [150, 100, 100],\n",
        "            15: [230, 150, 140],\n",
        "            16: [180, 165, 180],\n",
        "            17: [250, 170, 30],\n",
        "            18: [110, 190, 160],\n",
        "            19: [145, 170, 100]\n",
        "        }\n",
        "    }\n",
        "\n",
        "    MAPPING = {\n",
        "        'carla_to_common': [\n",
        "            19, 0, 1, 2, 3, 4, 5, 6, 7, 8, 9, 10, 11, 12, 13, 14, 15, 16, 17, 18, 19, 19, 19, 19, 0, 19, 19, 19, 19\n",
        "        ],\n",
        "        'cityscapes_to_common': [\n",
        "            19, 19, 19, 19, 19, 19, 19, 0, 1, 19, 19, 2, 3, 4, 19, 19, 19, 5, 19, 6, 7, 8, 9, 10, 11, 12, 13, 14, 15, 19, 19, 16, 17, 18, 19   \n",
        "        ]\n",
        "    }\n",
        "\n",
        "    def __init__(self, type=None) -> None:\n",
        "        super().__init__()\n",
        "        self.type = type\n",
        "\n",
        "    def __map_value(self, pixel):\n",
        "        return SemanticLabelMapper.MAPPING[self.type][pixel]\n",
        "\n",
        "    def map_image(self, input):\n",
        "        return np.vectorize(self.__map_value)(input)\n",
        "    \n",
        "    def map_from_dir(self, src_path, dst_path, extension):\n",
        "        for file in tqdm(os.listdir(src_path)):\n",
        "            if file.endswith(extension):\n",
        "                src_image_path = f'{src_path}/{file}'\n",
        "                dst_image_path = f'{dst_path}/{file}'\n",
        "                src_image = np.array(Image.open(src_image_path, 'r'))\n",
        "                dst_image = self.map_image(src_image)            \n",
        "                dst_image = Image.fromarray(np.uint8(dst_image), 'L')\n",
        "                dst_image.save(dst_image_path)\n",
        "\n",
        "class HybridDataset(Dataset):\n",
        "\n",
        "    def __init__(self, root_path, input_dir, target_dir, ipt_transform=None, tgt_transform=None, type='real', labels_mapping=None) -> None:\n",
        "        super(HybridDataset, self).__init__()\n",
        "        self.root_path = root_path\n",
        "        self.input_data = input_dir\n",
        "        self.target_data = target_dir\n",
        "        self.ipt_transform = ipt_transform\n",
        "        self.tgt_transform = tgt_transform\n",
        "        self.type = type\n",
        "        self.labels_mapping = labels_mapping\n",
        "    \n",
        "    def __len__(self):\n",
        "        input_file_list = os.listdir(os.path.join(self.root_path, self.input_data))\n",
        "        target_file_list = os.listdir(os.path.join(self.root_path, self.target_data))\n",
        "        input_length = len(input_file_list)\n",
        "        target_length = len(target_file_list)\n",
        "        if target_length == input_length:\n",
        "            return target_length\n",
        "\n",
        "    def __getitem__(self, index):\n",
        "        img_path_input_patch = os.path.join(self.root_path, self.input_data, f\"{self.type}_rgb_{index}.png\")\n",
        "        img_path_tgt_patch = os.path.join(self.root_path, self.target_data, f\"{self.type}_semantic_segmentation_{index}.png\")\n",
        "        \n",
        "        ipt_patch = np.array(Image.open(img_path_input_patch, 'r'))\n",
        "        tgt_patch = np.array(Image.open(img_path_tgt_patch, 'r',)).astype(np.int_)\n",
        "\n",
        "        ipt_patch = torchvision.transforms.ToTensor()(ipt_patch)\n",
        "        tgt_patch = tf.to_tensor(tgt_patch)\n",
        "\n",
        "        if self.labels_mapping is not None:\n",
        "            try:\n",
        "                semantic_label_mapper = SemanticLabelMapper(self.labels_mapping)\n",
        "                tgt_patch = semantic_label_mapper.map_image(tgt_patch)\n",
        "            except Exception as e:\n",
        "                raise Exception(f'Could not perform label mapping!\\n {e}')\n",
        "        # tgt_patch.astype(np.float32)\n",
        "        np.expand_dims(tgt_patch, axis=0)\n",
        "            \n",
        "        if self.ipt_transform:\n",
        "            ipt_patch = self.ipt_transform(ipt_patch)\n",
        "\n",
        "        if self.tgt_transform:\n",
        "            tgt_patch = self.tgt_transform(tgt_patch)\n",
        "            \n",
        "        return ipt_patch, tgt_patch"
      ]
    },
    {
      "cell_type": "markdown",
      "metadata": {
        "id": "-bhiWapX_-om"
      },
      "source": [
        "## Function utilities"
      ]
    },
    {
      "cell_type": "code",
      "execution_count": 48,
      "metadata": {
        "id": "qAkP0ASV_-on"
      },
      "outputs": [],
      "source": [
        "def iou(predictions, targets, num_classes, smooth=sys.float_info.epsilon):\n",
        "    confusion_mat = confusion_matrix(targets.flatten(), predictions.flatten(), labels=range(num_classes))\n",
        "    ious = []\n",
        "    for c in range(num_classes):\n",
        "        intersection = confusion_mat[c, c]\n",
        "        union = confusion_mat[c, :].sum() + confusion_mat[:, c].sum() - intersection\n",
        "        ious.append((intersection + smooth) / (union + smooth))\n",
        "    return ious\n",
        "\n",
        "def add_weight_decay(net, l2_value, skip_list=()):\n",
        "    decay, no_decay = [], []\n",
        "    for name, param in net.named_parameters():\n",
        "        if not param.requires_grad: continue # frozen weights\n",
        "        if len(param.shape) == 1 or name.endswith(\".bias\") or name in skip_list: no_decay.append(param)\n",
        "        else: decay.append(param)\n",
        "    return [{'params': no_decay, 'weight_decay': 0.}, {'params': decay, 'weight_decay': l2_value}]\n"
      ]
    },
    {
      "cell_type": "markdown",
      "metadata": {
        "id": "jAHxPFi3_-on"
      },
      "source": [
        "## Training-related functions"
      ]
    },
    {
      "cell_type": "code",
      "execution_count": 49,
      "metadata": {
        "id": "IlpRZU8c_-on"
      },
      "outputs": [],
      "source": [
        "def validate_epoch(model, val_dataloader, loss_function):\n",
        "    model.eval()\n",
        "    batch_losses = []\n",
        "    metrics = {'miou': 0, 'loss': 0}\n",
        "    \n",
        "    with torch.no_grad():\n",
        "        for (inputs, targets) in val_dataloader:\n",
        "            ipts = torch.autograd.Variable(inputs).cuda()\n",
        "            tgts = torch.autograd.Variable(targets).cuda()\n",
        "            \n",
        "            preds = model(ipts)['out']\n",
        "            loss = loss_function(preds, tgts.squeeze(1).long())\n",
        "            loss = loss.data.cpu().numpy()\n",
        "            batch_losses += [loss]\n",
        "\n",
        "            preds = torch.argmax(preds.cpu(), dim=1)\n",
        "            tgts = torch.squeeze(targets, dim=1)\n",
        "\n",
        "            metrics['miou'] += sum(iou(preds, tgts, num_classes=20)) / 20\n",
        "            metrics['loss'] += loss\n",
        "\n",
        "        metrics['miou'] /= float(len(val_dataloader))\n",
        "        metrics['loss'] /= float(len(val_dataloader))\n",
        "    return metrics"
      ]
    },
    {
      "cell_type": "code",
      "execution_count": 50,
      "metadata": {
        "id": "HCkzs16c_-oo"
      },
      "outputs": [],
      "source": [
        "def train_epoch(model, train_dataloader, loss_function, optimizer):\n",
        "    model.train()\n",
        "    batch_losses = []\n",
        "    \n",
        "    for (inputs, targets) in train_dataloader:\n",
        "        ipts = torch.autograd.Variable(inputs).cuda()\n",
        "        tgts = torch.autograd.Variable(targets).cuda()\n",
        "        pred = model(ipts)['out']\n",
        "\n",
        "        loss = loss_function(pred, tgts.squeeze(1).long())\n",
        "        loss_val = loss.data.cpu().numpy()\n",
        "        batch_losses += [loss_val]\n",
        "\n",
        "        optimizer.zero_grad()\n",
        "        loss.backward()\n",
        "        optimizer.step()\n",
        "\n",
        "    return batch_losses"
      ]
    },
    {
      "cell_type": "code",
      "execution_count": 51,
      "metadata": {
        "id": "BQIfP6W3_-oo"
      },
      "outputs": [],
      "source": [
        "def train(model, train_dataloader, val_dataloader, epochs, loss_function, optimizer, lr_decay):\n",
        "    model.train()\n",
        "    epoch_train_losses = []\n",
        "    epoch_val_losses = []\n",
        "    epoch_val_mious = []\n",
        "    for epoch in tqdm(range(epochs), desc='Epoch progress'):\n",
        "        batch_train_losses = train_epoch(\n",
        "            model=model, \n",
        "            train_dataloader=train_dataloader,\n",
        "            loss_function=loss_function, \n",
        "            optimizer=optimizer)\n",
        "        \n",
        "        batch_val_metrics = validate_epoch(\n",
        "            model=model,\n",
        "            val_dataloader=val_dataloader,\n",
        "            loss_function=loss_function)\n",
        "\n",
        "        epoch_average_train_loss = np.mean(batch_train_losses)\n",
        "        epoch_train_losses += [epoch_average_train_loss]\n",
        "        epoch_val_losses += [batch_val_metrics['loss']]\n",
        "        epoch_val_mious += [batch_val_metrics['miou']]\n",
        "\n",
        "        print(f'\\n\\n[TRAIN] Epoch average loss: {epoch_average_train_loss:.2f}')\n",
        "        print(f'[VAL] Epoch average loss: {batch_val_metrics[\"loss\"]:.2f}')\n",
        "        print(f'[VAL] Epoch average miou: {batch_val_metrics[\"miou\"]:.2f}\\n')\n",
        "        \n",
        "        if lr_decay:\n",
        "            for param_group in optimizer.param_groups:\n",
        "                param_group['lr'] *= ((1.0 + float(epoch) / epochs) ** 0.9)\n",
        "\n",
        "    plt.plot(epoch_train_losses, label='Train loss', color='blue') \n",
        "    plt.plot(epoch_val_losses, label='Validation loss', color='yellow') \n",
        "    plt.xlabel('Epoch') \n",
        "    plt.ylabel('Loss') \n",
        "    plt.xticks(range(0, epochs))\n",
        "    plt.title('Loss over Epochs') \n",
        "    plt.legend()\n",
        "    plt.show()\n",
        " \n",
        "    plt.plot(epoch_val_mious, label='Validation mIoU', color='green') \n",
        "    plt.xlabel('Epoch') \n",
        "    plt.ylabel('mIoU') \n",
        "    plt.xticks(range(0, epochs))\n",
        "    plt.title('mIoU over Epochs') \n",
        "    plt.legend()\n",
        "    plt.show()"
      ]
    },
    {
      "cell_type": "markdown",
      "metadata": {
        "id": "0rc2ZjUV_-oo"
      },
      "source": [
        "## Training configuration loading"
      ]
    },
    {
      "cell_type": "code",
      "execution_count": 52,
      "metadata": {
        "colab": {
          "base_uri": "https://localhost:8080/"
        },
        "id": "Q45lVAz2_-op",
        "outputId": "5d5117fb-803e-4b82-e4db-6777c23b0812"
      },
      "outputs": [
        {
          "name": "stdout",
          "output_type": "stream",
          "text": [
            "{'data_batch_size': 4,\n",
            " 'data_source': 'real',\n",
            " 'data_subset_size': 100,\n",
            " 'epochs': 16,\n",
            " 'fine_tune': False,\n",
            " 'fine_tune_path': 'G:/My Drive/Master IVA/Master '\n",
            "                   'Thesis/Models/deeplabv3_model.pt',\n",
            " 'ignore_label': 19,\n",
            " 'image_height': 512,\n",
            " 'image_width': 512,\n",
            " 'learning_rate': 0.007,\n",
            " 'learning_rate_paper_decay': True,\n",
            " 'model_save_path': 'G:/My Drive/MyDrive/Master IVA/Master '\n",
            "                    'Thesis/Models/deeplabv3_model.pt',\n",
            " 'val_data_batch_size': 4,\n",
            " 'val_data_subset_size': 20}\n"
          ]
        }
      ],
      "source": [
        "import pprint\n",
        "args = {}\n",
        "with open('G:/My Drive/Master IVA/Master Thesis/Training_Configs/colab-config-1.json') as json_file:\n",
        "    args = json.load(json_file)\n",
        "pprint.pprint(args)"
      ]
    },
    {
      "cell_type": "code",
      "execution_count": 53,
      "metadata": {
        "id": "l3c4vosw_-op"
      },
      "outputs": [],
      "source": [
        "torch.cuda.empty_cache()\n",
        "train_dataset = HybridDataset(root_path=f'G:/My Drive/Master IVA/Master Thesis/Datasets/{args[\"data_source\"]}/train',\n",
        "                                   input_dir='rgb',\n",
        "                                   target_dir='semantic_segmentation_mapped',\n",
        "                                   ipt_transform=torchvision.transforms.Compose([torchvision.transforms.Resize((args[\"image_height\"], args[\"image_width\"]))]),\n",
        "                                   tgt_transform=torchvision.transforms.Compose([torchvision.transforms.Resize((args[\"image_height\"], args[\"image_width\"]))]),\n",
        "                                   type=args[\"data_source\"],\n",
        "                                   labels_mapping=None)\n",
        "train_dataset = Subset(train_dataset, indices=range(args[\"data_subset_size\"]))\n",
        "train_dataloader = DataLoader(dataset=train_dataset,\n",
        "                              batch_size=args[\"data_batch_size\"],\n",
        "                              shuffle=True)\n",
        "val_dataset = HybridDataset(root_path=f'G:/My Drive/Master IVA/Master Thesis/Datasets/{args[\"data_source\"]}/val',\n",
        "                                 input_dir='rgb',\n",
        "                                 target_dir='semantic_segmentation_mapped',\n",
        "                                 ipt_transform=torchvision.transforms.Compose([torchvision.transforms.Resize((args[\"image_height\"], args[\"image_width\"]))]),\n",
        "                                 tgt_transform=torchvision.transforms.Compose([torchvision.transforms.Resize((args[\"image_height\"], args[\"image_width\"]))]),\n",
        "                                 type=args[\"data_source\"],\n",
        "                                 labels_mapping=None)\n",
        "val_dataset = Subset(val_dataset, indices=range(args[\"val_data_subset_size\"]))\n",
        "val_dataloader = DataLoader(dataset=val_dataset,\n",
        "                            batch_size=args[\"val_data_batch_size\"],\n",
        "                            shuffle=True)\n",
        "    "
      ]
    },
    {
      "cell_type": "code",
      "execution_count": 54,
      "metadata": {},
      "outputs": [
        {
          "name": "stderr",
          "output_type": "stream",
          "text": [
            "Training dataset norm. params. comp. progress: 100%|██████████| 25/25 [00:10<00:00,  2.28it/s]\n"
          ]
        },
        {
          "name": "stdout",
          "output_type": "stream",
          "text": [
            "Train dataset 'mean':tensor([0.2303, 0.2706, 0.2305])\n",
            "Train dataset 'std deviation':tensor([0.1385, 0.1480, 0.1435])\n"
          ]
        },
        {
          "name": "stderr",
          "output_type": "stream",
          "text": [
            "Validation dataset norm. params. comp. progress:   0%|          | 0/5 [00:00<?, ?it/s]C:\\Users\\Manuel\\AppData\\Local\\Temp\\ipykernel_13464\\3029786214.py:20: UserWarning: To copy construct from a tensor, it is recommended to use sourceTensor.clone().detach() or sourceTensor.clone().detach().requires_grad_(True), rather than torch.tensor(sourceTensor).\n",
            "  val_inputs_tensor = torch.tensor(val_inputs)\n",
            "Validation dataset norm. params. comp. progress: 100%|██████████| 5/5 [00:02<00:00,  2.28it/s]"
          ]
        },
        {
          "name": "stdout",
          "output_type": "stream",
          "text": [
            "Validation dataset 'mean':tensor([0.3364, 0.3710, 0.3297])\n",
            "Validation dataset 'std deviation':tensor([0.2158, 0.2162, 0.2146])\n"
          ]
        },
        {
          "name": "stderr",
          "output_type": "stream",
          "text": [
            "\n"
          ]
        }
      ],
      "source": [
        "train_pixel_sum = torch.tensor([0.0, 0.0, 0.0])\n",
        "train_pixel_sum_sq = torch.tensor([0.0, 0.0, 0.0])\n",
        "\n",
        "for train_inputs, _ in tqdm(train_dataloader, desc='Training dataset norm. params. comp. progress'):\n",
        "    train_pixel_sum += train_inputs.sum(axis = [0, 2, 3])\n",
        "    train_pixel_sum_sq += (train_inputs ** 2).sum(axis = [0, 2, 3])\n",
        "\n",
        "train_pixel_count = args[\"data_subset_size\"] * args[\"image_width\"] * args[\"image_height\"]\n",
        "train_mean = train_pixel_sum / train_pixel_count\n",
        "train_variance = (train_pixel_sum_sq / train_pixel_count) - (train_mean ** 2)\n",
        "train_std = torch.sqrt(train_variance)\n",
        "\n",
        "print(f'Train dataset \\'mean\\':{train_mean}')\n",
        "print(f'Train dataset \\'std deviation\\':{train_std}')\n",
        "\n",
        "val_pixel_sum = torch.tensor([0.0, 0.0, 0.0])\n",
        "val_pixel_sum_sq = torch.tensor([0.0, 0.0, 0.0])\n",
        "\n",
        "for val_inputs, _ in tqdm(val_dataloader, desc='Validation dataset norm. params. comp. progress'):\n",
        "    val_inputs_tensor = torch.tensor(val_inputs)\n",
        "    val_pixel_sum += val_inputs_tensor.sum(axis = [0, 2, 3])\n",
        "    val_pixel_sum_sq += (val_inputs_tensor ** 2).sum(axis = [0, 2, 3])\n",
        "\n",
        "val_pixel_count = args[\"val_data_subset_size\"] * args[\"image_width\"] * args[\"image_height\"]\n",
        "val_mean = val_pixel_sum / val_pixel_count\n",
        "val_variance = (val_pixel_sum_sq / val_pixel_count) - (val_mean ** 2)\n",
        "val_std = torch.sqrt(val_variance)\n",
        "\n",
        "print(f'Validation dataset \\'mean\\':{val_mean}')\n",
        "print(f'Validation dataset \\'std deviation\\':{val_std}')"
      ]
    },
    {
      "cell_type": "code",
      "execution_count": 55,
      "metadata": {},
      "outputs": [],
      "source": [
        "train_dataset = HybridDataset(root_path=f'G:/My Drive/Master IVA/Master Thesis/Datasets/{args[\"data_source\"]}/train',\n",
        "                                   input_dir='rgb',\n",
        "                                   target_dir='semantic_segmentation_mapped',\n",
        "                                   ipt_transform=torchvision.transforms.Compose([torchvision.transforms.Resize((args[\"image_height\"], args[\"image_width\"])),\n",
        "                                                                                 torchvision.transforms.Normalize(mean=list(train_mean), std=list(train_std))]),\n",
        "                                   tgt_transform=torchvision.transforms.Compose([torchvision.transforms.Resize((args[\"image_height\"], args[\"image_width\"]))]),\n",
        "                                   type=args[\"data_source\"],\n",
        "                                   labels_mapping=None)\n",
        "train_dataset = Subset(train_dataset, indices=range(args[\"data_subset_size\"]))\n",
        "train_dataloader = DataLoader(dataset=train_dataset,\n",
        "                              batch_size=args[\"data_batch_size\"],\n",
        "                              shuffle=True)\n",
        "val_dataset = HybridDataset(root_path=f'G:/My Drive/Master IVA/Master Thesis/Datasets/{args[\"data_source\"]}/val',\n",
        "                                 input_dir='rgb',\n",
        "                                 target_dir='semantic_segmentation_mapped',\n",
        "                                 ipt_transform=torchvision.transforms.Compose([torchvision.transforms.Resize((args[\"image_height\"], args[\"image_width\"])),\n",
        "                                                                               torchvision.transforms.Normalize(mean=list(val_mean), std=list(val_std))]),\n",
        "                                 tgt_transform=torchvision.transforms.Compose([torchvision.transforms.Resize((args[\"image_height\"], args[\"image_width\"]))]), \n",
        "                                 type=args[\"data_source\"],\n",
        "                                 labels_mapping=None)\n",
        "val_dataset = Subset(val_dataset, indices=range(args[\"val_data_subset_size\"]))\n",
        "val_dataloader = DataLoader(dataset=val_dataset,\n",
        "                            batch_size=args[\"val_data_batch_size\"],\n",
        "                            shuffle=True)"
      ]
    },
    {
      "cell_type": "markdown",
      "metadata": {
        "id": "zQIRQ39o_-op"
      },
      "source": [
        "## Training preparation"
      ]
    },
    {
      "cell_type": "code",
      "execution_count": 56,
      "metadata": {
        "colab": {
          "base_uri": "https://localhost:8080/"
        },
        "id": "dhR4VbF2_-op",
        "outputId": "8354473e-c71c-4783-ceaf-b67ed5c36c3c"
      },
      "outputs": [
        {
          "name": "stderr",
          "output_type": "stream",
          "text": [
            "c:\\ProgramData\\Anaconda3\\lib\\site-packages\\torchvision\\models\\_utils.py:208: UserWarning: The parameter 'pretrained' is deprecated since 0.13 and will be removed in 0.15, please use 'weights' instead.\n",
            "  warnings.warn(\n",
            "c:\\ProgramData\\Anaconda3\\lib\\site-packages\\torchvision\\models\\_utils.py:223: UserWarning: Arguments other than a weight enum or `None` for 'weights' are deprecated since 0.13 and will be removed in 0.15. The current behavior is equivalent to passing `weights=None`.\n",
            "  warnings.warn(msg)\n"
          ]
        },
        {
          "name": "stdout",
          "output_type": "stream",
          "text": [
            "Loaded model to device.\n"
          ]
        }
      ],
      "source": [
        "model = dlv3.deeplabv3_resnet50(pretrained=False, progress=True, output_stride=256, num_classes=len(SemanticLabelMapper.ID_TO_STRING['common'].keys()))  \n",
        "if args[\"fine_tune\"]:\n",
        "    model.load_state_dict(torch.load(args[\"fine_tune_model_path\"]))\n",
        "    for name, param in model.backbone.named_parameters():\n",
        "        if 'layer1' in name or 'layer2' in name or 'layer3' in name or 'layer4' in name or 'layer5' in name:\n",
        "            print(f'---> Freezing layer: {name}.')\n",
        "            param.requires_grad = False\n",
        "\n",
        "device = torch.device(\"cuda\" if torch.cuda.is_available() else \"cpu\")\n",
        "model.to(device)\n",
        "print('Loaded model to device.')"
      ]
    },
    {
      "cell_type": "code",
      "execution_count": 57,
      "metadata": {
        "id": "Ud3YI0lQ_-oq"
      },
      "outputs": [],
      "source": [
        "params = add_weight_decay(model, l2_value=0.0001)\n",
        "optimizer = torch.optim.Adam(params=params, lr=args[\"learning_rate\"])\n",
        "loss_function = nn.CrossEntropyLoss(ignore_index=args[\"ignore_label\"])"
      ]
    },
    {
      "cell_type": "code",
      "execution_count": 58,
      "metadata": {
        "colab": {
          "base_uri": "https://localhost:8080/"
        },
        "id": "8VKyjxND_-oq",
        "outputId": "1de24761-88f5-4f9e-c3ba-5d8f5215b125"
      },
      "outputs": [
        {
          "name": "stderr",
          "output_type": "stream",
          "text": [
            "Epoch progress:   0%|          | 0/16 [00:00<?, ?it/s]"
          ]
        }
      ],
      "source": [
        "train(model=model, \n",
        "      train_dataloader=train_dataloader, \n",
        "      val_dataloader=val_dataloader, \n",
        "      epochs=args[\"epochs\"], \n",
        "      loss_function=loss_function, \n",
        "      optimizer=optimizer, \n",
        "      lr_decay=args[\"learning_rate_paper_decay\"])"
      ]
    },
    {
      "cell_type": "code",
      "execution_count": null,
      "metadata": {
        "id": "1sEVMrQz_-oq"
      },
      "outputs": [],
      "source": [
        "torch.save(model.state_dict(), f'{args[\"model_save_path\"]}',)"
      ]
    }
  ],
  "metadata": {
    "accelerator": "GPU",
    "colab": {
      "provenance": []
    },
    "gpuClass": "standard",
    "kernelspec": {
      "display_name": "base",
      "language": "python",
      "name": "python3"
    },
    "language_info": {
      "codemirror_mode": {
        "name": "ipython",
        "version": 3
      },
      "file_extension": ".py",
      "mimetype": "text/x-python",
      "name": "python",
      "nbconvert_exporter": "python",
      "pygments_lexer": "ipython3",
      "version": "3.8.12"
    },
    "orig_nbformat": 4
  },
  "nbformat": 4,
  "nbformat_minor": 0
}
