{
 "cells": [
  {
   "cell_type": "code",
   "execution_count": 1,
   "metadata": {},
   "outputs": [],
   "source": [
    "import playsound\n",
    "import json\n",
    "import data\n",
    "import utils\n",
    "import torch\n",
    "import torch.nn as nn\n",
    "import torchvision\n",
    "import torchvision.models.segmentation.deeplabv3 as dlv3\n",
    "import matplotlib.pyplot as plt\n",
    "import numpy as np\n",
    "import argparse\n",
    "from torch.utils.data import DataLoader\n",
    "from torch.utils.data import Subset\n",
    "from torchsummary import summary\n",
    "from tqdm import tqdm"
   ]
  },
  {
   "cell_type": "code",
   "execution_count": null,
   "metadata": {},
   "outputs": [],
   "source": [
    "def validate_epoch(model, val_dataloader, loss_function):\n",
    "    model.eval()\n",
    "    batch_losses = []\n",
    "    metrics = {'miou': 0, 'loss': 0}\n",
    "    \n",
    "    with torch.no_grad():\n",
    "        for (inputs, targets) in tqdm(val_dataloader, desc=f'Validation batch progress'):\n",
    "            ipts = torch.autograd.Variable(inputs).cuda()\n",
    "            tgts = torch.autograd.Variable(targets).cuda()\n",
    "            \n",
    "            preds = model(ipts)['out']\n",
    "            loss = loss_function(preds, tgts.squeeze(1).long())\n",
    "            loss = loss.data.cpu().numpy()\n",
    "            batch_losses += [loss]\n",
    "\n",
    "            preds = torch.argmax(preds.cpu(), dim=1)\n",
    "            tgts = torch.squeeze(targets, dim=1)\n",
    "\n",
    "            metrics['miou'] += sum(utils.iou(preds, tgts, num_classes=20)) / 20\n",
    "            metrics['loss'] += loss\n",
    "\n",
    "        metrics['miou'] /= float(len(val_dataloader))\n",
    "        metrics['loss'] /= float(len(val_dataloader))\n",
    "    return metrics"
   ]
  },
  {
   "cell_type": "code",
   "execution_count": null,
   "metadata": {},
   "outputs": [],
   "source": [
    "def train_epoch(model, train_dataloader, loss_function, optimizer):\n",
    "    model.train()\n",
    "    batch_losses = []\n",
    "    \n",
    "    for (inputs, targets) in tqdm(train_dataloader, desc=f'Training batch progress'):\n",
    "        ipts = torch.autograd.Variable(inputs).cuda()\n",
    "        tgts = torch.autograd.Variable(targets).cuda()\n",
    "        pred = model(ipts)['out']\n",
    "\n",
    "        loss = loss_function(pred, tgts.squeeze(1).long())\n",
    "        loss_val = loss.data.cpu().numpy()\n",
    "        batch_losses += [loss_val]\n",
    "\n",
    "        optimizer.zero_grad()\n",
    "        loss.backward()\n",
    "        optimizer.step()\n",
    "\n",
    "    return batch_losses"
   ]
  },
  {
   "cell_type": "code",
   "execution_count": null,
   "metadata": {},
   "outputs": [],
   "source": [
    "def train(model, train_dataloader, val_dataloader, epochs, loss_function, optimizer, lr_decay):\n",
    "    model.train()\n",
    "    epoch_train_losses = []\n",
    "    epoch_val_losses = []\n",
    "    epoch_val_mious = []\n",
    "    for epoch in tqdm(range(epochs), desc='Epoch progress'):\n",
    "        batch_train_losses = train_epoch(\n",
    "            model=model, \n",
    "            train_dataloader=train_dataloader,\n",
    "            loss_function=loss_function, \n",
    "            optimizer=optimizer)\n",
    "        \n",
    "        batch_val_metrics = validate_epoch(\n",
    "            model=model,\n",
    "            val_dataloader=val_dataloader,\n",
    "            loss_function=loss_function)\n",
    "\n",
    "        epoch_average_train_loss = np.mean(batch_train_losses)\n",
    "        epoch_train_losses += [epoch_average_train_loss]\n",
    "        epoch_val_losses += [batch_val_metrics['loss']]\n",
    "        epoch_val_mious += [batch_val_metrics['miou']]\n",
    "\n",
    "        print(f'\\n\\n[TRAIN] Epoch average loss: {epoch_average_train_loss:.2f}')\n",
    "        print(f'[VAL] Epoch average loss: {batch_val_metrics[\"loss\"]:.2f}')\n",
    "        print(f'[VAL] Epoch average miou: {batch_val_metrics[\"miou\"]:.2f}\\n')\n",
    "        \n",
    "        if lr_decay:\n",
    "            for param_group in optimizer.param_groups:\n",
    "                param_group['lr'] *= ((1.0 + float(epoch) / epochs) ** 0.9)\n",
    "\n",
    "    plt.plot(epoch_train_losses, label='Train loss', color='blue') \n",
    "    plt.plot(epoch_val_losses, label='Validation loss', color='yellow') \n",
    "    plt.xlabel('Epoch') \n",
    "    plt.ylabel('Loss') \n",
    "    plt.title('Loss over Epochs') \n",
    "    plt.legend()\n",
    "    plt.show()\n",
    " \n",
    "    plt.plot(epoch_val_mious, label='Validation mIoU', color='green') \n",
    "    plt.xlabel('Epoch') \n",
    "    plt.ylabel('mIoU') \n",
    "    plt.title('mIoU over Epochs') \n",
    "    plt.legend()\n",
    "    plt.show()"
   ]
  },
  {
   "cell_type": "code",
   "execution_count": 4,
   "metadata": {},
   "outputs": [
    {
     "name": "stdout",
     "output_type": "stream",
     "text": [
      "{'data-batch-size': 4,\n",
      " 'data-source': 'synthetic',\n",
      " 'data-subset-size': 2000,\n",
      " 'epochs': 16,\n",
      " 'fine-tune': False,\n",
      " 'fine-tune-path': './params/deeplabv3_model.pt',\n",
      " 'ignore-label': 19,\n",
      " 'image-height': 256,\n",
      " 'image-width': 512,\n",
      " 'learning-rate': 1e-05,\n",
      " 'learning-rate-paper-decay': True,\n",
      " 'model-save-path': './params/deeplabv3_model.pt',\n",
      " 'val-data-batch-size': 4,\n",
      " 'val-data-subset-size': 200}\n"
     ]
    }
   ],
   "source": [
    "import pprint\n",
    "args = {}\n",
    "with open('./configs/config-1.json') as json_file:\n",
    "    args = json.load(json_file)\n",
    "pprint.pprint(args)"
   ]
  },
  {
   "cell_type": "code",
   "execution_count": null,
   "metadata": {},
   "outputs": [],
   "source": [
    "torch.cuda.empty_cache()\n",
    "train_dataset = data.HybridDataset(root_path=f'C:\\\\Users\\\\Manuel\\\\Projects\\\\GitHub_Repositories\\\\master_thesis\\\\datasets\\\\{args[\"data_source\"]}\\\\train',\n",
    "                                   input_dir='rgb',\n",
    "                                   target_dir='semantic_segmentation_mapped',\n",
    "                                   transform=torchvision.transforms.Compose([torchvision.transforms.Resize((args[\"image_height\"], args[\"image_width\"]))]),\n",
    "                                   type=args[\"data_source\"],\n",
    "                                   labels_mapping=None)\n",
    "train_dataset = Subset(train_dataset, indices=range(args[\"data_subset_size\"]))\n",
    "train_dataloader = DataLoader(dataset=train_dataset,\n",
    "                              batch_size=args[\"data_batch_size\"],\n",
    "                              shuffle=True,\n",
    "                              num_workers=1)\n",
    "val_dataset = data.HybridDataset(root_path=f'C:\\\\Users\\\\Manuel\\\\Projects\\\\GitHub_Repositories\\\\master_thesis\\\\datasets\\\\{args[\"data_source\"]}\\\\val',\n",
    "                                 input_dir='rgb',\n",
    "                                 target_dir='semantic_segmentation_mapped',\n",
    "                                 transform=torchvision.transforms.Compose([torchvision.transforms.Resize((args[\"image_height\"], args[\"image_width\"]))]),\n",
    "                                 type=args[\"data_source\"],\n",
    "                                 labels_mapping=None)\n",
    "val_dataset = Subset(val_dataset, indices=range(args[\"val_data_subset_size\"]))\n",
    "val_dataloader = DataLoader(dataset=val_dataset,\n",
    "                            batch_size=args[\"val_data_batch_size\"],\n",
    "                            shuffle=True,\n",
    "                            num_workers=1)\n",
    "    "
   ]
  },
  {
   "cell_type": "code",
   "execution_count": null,
   "metadata": {},
   "outputs": [],
   "source": [
    "model = dlv3.deeplabv3_resnet50(pretrained=False, progress=True, output_stride=256, num_classes=len(data.SemanticLabelMapper.ID_TO_STRING['common'].keys()))  \n",
    "if args[\"fine_tune\"]:\n",
    "    model.load_state_dict(torch.load(args[\"fine_tune_model_path\"]))\n",
    "    for name, param in model.backbone.named_parameters():\n",
    "        if 'layer1' in name or 'layer2' in name or 'layer3' in name or 'layer4' in name or 'layer5' in name:\n",
    "            print(f'---> Freezing layer: {name}.')\n",
    "            param.requires_grad = False\n",
    "\n",
    "device = torch.device(\"cuda\" if torch.cuda.is_available() else \"cpu\")\n",
    "model.to(device)"
   ]
  },
  {
   "cell_type": "code",
   "execution_count": null,
   "metadata": {},
   "outputs": [],
   "source": [
    "params = utils.add_weight_decay(model, l2_value=0.0001)\n",
    "optimizer = torch.optim.Adam(params=params, lr=args[\"learning_rate\"])\n",
    "loss_function = nn.CrossEntropyLoss(ignore_index=args[\"ignore_label\"])"
   ]
  },
  {
   "cell_type": "code",
   "execution_count": null,
   "metadata": {},
   "outputs": [],
   "source": [
    "train(model=model, \n",
    "      train_dataloader=train_dataloader, \n",
    "      val_dataloader=val_dataloader, \n",
    "      epochs=args[\"epochs\"], \n",
    "      loss_function=loss_function, \n",
    "      optimizer=optimizer, \n",
    "      lr_decay=args[\"learning_rate_paper_decay\"])"
   ]
  },
  {
   "cell_type": "code",
   "execution_count": null,
   "metadata": {},
   "outputs": [],
   "source": [
    "torch.save(model.state_dict(), f'{args[\"model_save_path\"]}',)"
   ]
  }
 ],
 "metadata": {
  "kernelspec": {
   "display_name": "base",
   "language": "python",
   "name": "python3"
  },
  "language_info": {
   "codemirror_mode": {
    "name": "ipython",
    "version": 3
   },
   "file_extension": ".py",
   "mimetype": "text/x-python",
   "name": "python",
   "nbconvert_exporter": "python",
   "pygments_lexer": "ipython3",
   "version": "3.8.12"
  },
  "orig_nbformat": 4
 },
 "nbformat": 4,
 "nbformat_minor": 2
}
